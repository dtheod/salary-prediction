{
 "cells": [
  {
   "cell_type": "code",
   "execution_count": 2,
   "id": "419bf5ad-e439-4ad6-b31d-91395be932db",
   "metadata": {},
   "outputs": [],
   "source": [
    "import pandas as pd\n",
    "import os"
   ]
  }
 ],
 "metadata": {
  "kernelspec": {
   "display_name": "salary-prediction-e5IJy_fq-py3.9",
   "language": "python",
   "name": "salary-prediction-e5ijy_fq-py3.9"
  },
  "language_info": {
   "codemirror_mode": {
    "name": "ipython",
    "version": 3
   },
   "file_extension": ".py",
   "mimetype": "text/x-python",
   "name": "python",
   "nbconvert_exporter": "python",
   "pygments_lexer": "ipython3",
   "version": "3.9.7"
  }
 },
 "nbformat": 4,
 "nbformat_minor": 5
}
